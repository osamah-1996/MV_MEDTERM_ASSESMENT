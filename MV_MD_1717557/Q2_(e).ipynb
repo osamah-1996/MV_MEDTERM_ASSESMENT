{
  "cells": [
    {
      "cell_type": "markdown",
      "metadata": {
        "id": "LER1yqY6BU9A"
      },
      "source": [
        "e) Do you see any accuracy improvement? Whether it is a \"yes\" or \"no\", discuss the possible reasons contributing to the accuracy improvement/ unimprovement. **(4 marks)**\n",
        "\n",
        "<span style=\"color:blue\">\n",
        "    THE ANSWER IS:\n",
        "     yes, due to that, the data Normlization, we had normalized the ing tensors by subtracting the mwan as well as dividing by the stander diviation of pixels accrose each single channele. Furthermore, normalizing the data will prevents the pixwl value from any one channel from any imprpoparly  that effect the losses as well as the gradients.\n",
        "    </span>"
      ]
    }
  ],
  "metadata": {
    "kernelspec": {
      "display_name": "Python 3",
      "name": "python3"
    },
    "language_info": {
      "name": "python"
    },
    "colab": {
      "provenance": []
    },
    "accelerator": "GPU",
    "gpuClass": "standard"
  },
  "nbformat": 4,
  "nbformat_minor": 0
}