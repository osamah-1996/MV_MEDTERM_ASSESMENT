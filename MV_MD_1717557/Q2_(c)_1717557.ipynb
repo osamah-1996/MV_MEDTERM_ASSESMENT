{
  "cells": [
    {
      "cell_type": "markdown",
      "metadata": {
        "id": "LER1yqY6BU9A"
      },
      "source": [
        "c) Based on Question 2 b), answer the following questions: \n",
        "    \n",
        "    i) Is the model overfitting? Why? (4 marks)\n",
        "   <font color='blue'>YES the model is overfiting, due to that the model has a large lost function on the training data as well as the produaction acuracy is low which is called the overfitting.\n",
        "    ...</font>\n",
        "    \n",
        "    ii) Propose two methods to reduce the effect of overfitting. (4 marks)\n",
        "   <font color='blue'>Two methods that I propose are: (1) Data Augmentation (2) Data Normalization</font>\n",
        "   \n",
        "    iii) Implement the two proposed methods in Q2 c) ii) in the next cell and show that the overfitting has been reduced. (8 marks)"
      ]
    }
  ],
  "metadata": {
    "kernelspec": {
      "display_name": "Python 3",
      "name": "python3"
    },
    "language_info": {
      "name": "python"
    },
    "colab": {
      "provenance": []
    },
    "accelerator": "GPU",
    "gpuClass": "standard"
  },
  "nbformat": 4,
  "nbformat_minor": 0
}